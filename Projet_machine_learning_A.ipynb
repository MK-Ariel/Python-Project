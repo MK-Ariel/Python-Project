{
 "cells": [
  {
   "cell_type": "markdown",
   "id": "eb62a31a",
   "metadata": {},
   "source": [
    "# Projet IA\n",
    "\n",
    "Dans ce notebook, nous allons essayer de voir le lien entre la concomation energetiques de  population d'une région et ces effets sur la temperature et le cliamt de cette région"
   ]
  },
  {
   "cell_type": "markdown",
   "id": "a8feec4d",
   "metadata": {},
   "source": [
    "On commence par importer les different librairies avec lesquelles nous allons traivaller"
   ]
  },
  {
   "cell_type": "code",
   "execution_count": 1,
   "id": "25c50d3f",
   "metadata": {},
   "outputs": [],
   "source": [
    "import pandas as pd\n",
    "import numpy as np\n",
    "import matplotlib.pyplot as plt\n",
    "import seaborn as sns\n",
    "from sklearn.model_selection import train_test_split\n",
    "from sklearn.tree import DecisionTreeRegressor\n",
    "from sklearn.tree import DecisionTreeClassifier\n",
    "from sklearn.metrics import mean_absolute_error\n",
    "import statsmodels\n",
    "import statistics\n",
    "from scipy.stats import pearsonr\n",
    "from sklearn.linear_model import LinearRegression\n",
    "from sklearn.neighbors import KNeighborsClassifier\n",
    "from sklearn.model_selection import cross_val_score\n",
    "from sklearn.model_selection import validation_curve\n",
    "from sklearn.metrics import confusion_matrix\n",
    "from pandas_profiling import ProfileReport\n",
    "from sklearn.model_selection import KFold, LeaveOneOut, ShuffleSplit, StratifiedKFold"
   ]
  },
  {
   "cell_type": "code",
   "execution_count": 3,
   "id": "f55e1e23",
   "metadata": {},
   "outputs": [],
   "source": [
    "data = pd.read_csv('C:/Users/karel/OneDrive/Documents/Meine Unterlagen/Skool/Cour/Semestre2/Projet_IA/n/HomeC.csv', low_memory=False)"
   ]
  },
  {
   "cell_type": "markdown",
   "id": "d92555f4",
   "metadata": {},
   "source": [
    "### Exploration et Netoyage des Données"
   ]
  },
  {
   "cell_type": "code",
   "execution_count": 4,
   "id": "92232ffc",
   "metadata": {
    "scrolled": true
   },
   "outputs": [
    {
     "data": {
      "text/html": [
       "<div>\n",
       "<style scoped>\n",
       "    .dataframe tbody tr th:only-of-type {\n",
       "        vertical-align: middle;\n",
       "    }\n",
       "\n",
       "    .dataframe tbody tr th {\n",
       "        vertical-align: top;\n",
       "    }\n",
       "\n",
       "    .dataframe thead th {\n",
       "        text-align: right;\n",
       "    }\n",
       "</style>\n",
       "<table border=\"1\" class=\"dataframe\">\n",
       "  <thead>\n",
       "    <tr style=\"text-align: right;\">\n",
       "      <th></th>\n",
       "      <th>time</th>\n",
       "      <th>use [kW]</th>\n",
       "      <th>gen [kW]</th>\n",
       "      <th>House overall [kW]</th>\n",
       "      <th>Dishwasher [kW]</th>\n",
       "      <th>Furnace 1 [kW]</th>\n",
       "      <th>Furnace 2 [kW]</th>\n",
       "      <th>Home office [kW]</th>\n",
       "      <th>Fridge [kW]</th>\n",
       "      <th>Wine cellar [kW]</th>\n",
       "      <th>...</th>\n",
       "      <th>visibility</th>\n",
       "      <th>summary</th>\n",
       "      <th>apparentTemperature</th>\n",
       "      <th>pressure</th>\n",
       "      <th>windSpeed</th>\n",
       "      <th>cloudCover</th>\n",
       "      <th>windBearing</th>\n",
       "      <th>precipIntensity</th>\n",
       "      <th>dewPoint</th>\n",
       "      <th>precipProbability</th>\n",
       "    </tr>\n",
       "  </thead>\n",
       "  <tbody>\n",
       "    <tr>\n",
       "      <th>0</th>\n",
       "      <td>1451624400</td>\n",
       "      <td>0.932833</td>\n",
       "      <td>0.003483</td>\n",
       "      <td>0.932833</td>\n",
       "      <td>0.000033</td>\n",
       "      <td>0.020700</td>\n",
       "      <td>0.061917</td>\n",
       "      <td>0.442633</td>\n",
       "      <td>0.124150</td>\n",
       "      <td>0.006983</td>\n",
       "      <td>...</td>\n",
       "      <td>10.0</td>\n",
       "      <td>Clear</td>\n",
       "      <td>29.26</td>\n",
       "      <td>1016.91</td>\n",
       "      <td>9.18</td>\n",
       "      <td>cloudCover</td>\n",
       "      <td>282.0</td>\n",
       "      <td>0.0</td>\n",
       "      <td>24.4</td>\n",
       "      <td>0.0</td>\n",
       "    </tr>\n",
       "    <tr>\n",
       "      <th>1</th>\n",
       "      <td>1451624401</td>\n",
       "      <td>0.934333</td>\n",
       "      <td>0.003467</td>\n",
       "      <td>0.934333</td>\n",
       "      <td>0.000000</td>\n",
       "      <td>0.020717</td>\n",
       "      <td>0.063817</td>\n",
       "      <td>0.444067</td>\n",
       "      <td>0.124000</td>\n",
       "      <td>0.006983</td>\n",
       "      <td>...</td>\n",
       "      <td>10.0</td>\n",
       "      <td>Clear</td>\n",
       "      <td>29.26</td>\n",
       "      <td>1016.91</td>\n",
       "      <td>9.18</td>\n",
       "      <td>cloudCover</td>\n",
       "      <td>282.0</td>\n",
       "      <td>0.0</td>\n",
       "      <td>24.4</td>\n",
       "      <td>0.0</td>\n",
       "    </tr>\n",
       "    <tr>\n",
       "      <th>2</th>\n",
       "      <td>1451624402</td>\n",
       "      <td>0.931817</td>\n",
       "      <td>0.003467</td>\n",
       "      <td>0.931817</td>\n",
       "      <td>0.000017</td>\n",
       "      <td>0.020700</td>\n",
       "      <td>0.062317</td>\n",
       "      <td>0.446067</td>\n",
       "      <td>0.123533</td>\n",
       "      <td>0.006983</td>\n",
       "      <td>...</td>\n",
       "      <td>10.0</td>\n",
       "      <td>Clear</td>\n",
       "      <td>29.26</td>\n",
       "      <td>1016.91</td>\n",
       "      <td>9.18</td>\n",
       "      <td>cloudCover</td>\n",
       "      <td>282.0</td>\n",
       "      <td>0.0</td>\n",
       "      <td>24.4</td>\n",
       "      <td>0.0</td>\n",
       "    </tr>\n",
       "    <tr>\n",
       "      <th>3</th>\n",
       "      <td>1451624403</td>\n",
       "      <td>1.022050</td>\n",
       "      <td>0.003483</td>\n",
       "      <td>1.022050</td>\n",
       "      <td>0.000017</td>\n",
       "      <td>0.106900</td>\n",
       "      <td>0.068517</td>\n",
       "      <td>0.446583</td>\n",
       "      <td>0.123133</td>\n",
       "      <td>0.006983</td>\n",
       "      <td>...</td>\n",
       "      <td>10.0</td>\n",
       "      <td>Clear</td>\n",
       "      <td>29.26</td>\n",
       "      <td>1016.91</td>\n",
       "      <td>9.18</td>\n",
       "      <td>cloudCover</td>\n",
       "      <td>282.0</td>\n",
       "      <td>0.0</td>\n",
       "      <td>24.4</td>\n",
       "      <td>0.0</td>\n",
       "    </tr>\n",
       "    <tr>\n",
       "      <th>4</th>\n",
       "      <td>1451624404</td>\n",
       "      <td>1.139400</td>\n",
       "      <td>0.003467</td>\n",
       "      <td>1.139400</td>\n",
       "      <td>0.000133</td>\n",
       "      <td>0.236933</td>\n",
       "      <td>0.063983</td>\n",
       "      <td>0.446533</td>\n",
       "      <td>0.122850</td>\n",
       "      <td>0.006850</td>\n",
       "      <td>...</td>\n",
       "      <td>10.0</td>\n",
       "      <td>Clear</td>\n",
       "      <td>29.26</td>\n",
       "      <td>1016.91</td>\n",
       "      <td>9.18</td>\n",
       "      <td>cloudCover</td>\n",
       "      <td>282.0</td>\n",
       "      <td>0.0</td>\n",
       "      <td>24.4</td>\n",
       "      <td>0.0</td>\n",
       "    </tr>\n",
       "  </tbody>\n",
       "</table>\n",
       "<p>5 rows × 32 columns</p>\n",
       "</div>"
      ],
      "text/plain": [
       "         time  use [kW]  gen [kW]  House overall [kW]  Dishwasher [kW]  \\\n",
       "0  1451624400  0.932833  0.003483            0.932833         0.000033   \n",
       "1  1451624401  0.934333  0.003467            0.934333         0.000000   \n",
       "2  1451624402  0.931817  0.003467            0.931817         0.000017   \n",
       "3  1451624403  1.022050  0.003483            1.022050         0.000017   \n",
       "4  1451624404  1.139400  0.003467            1.139400         0.000133   \n",
       "\n",
       "   Furnace 1 [kW]  Furnace 2 [kW]  Home office [kW]  Fridge [kW]  \\\n",
       "0        0.020700        0.061917          0.442633     0.124150   \n",
       "1        0.020717        0.063817          0.444067     0.124000   \n",
       "2        0.020700        0.062317          0.446067     0.123533   \n",
       "3        0.106900        0.068517          0.446583     0.123133   \n",
       "4        0.236933        0.063983          0.446533     0.122850   \n",
       "\n",
       "   Wine cellar [kW]  ...  visibility  summary  apparentTemperature  pressure  \\\n",
       "0          0.006983  ...        10.0    Clear                29.26   1016.91   \n",
       "1          0.006983  ...        10.0    Clear                29.26   1016.91   \n",
       "2          0.006983  ...        10.0    Clear                29.26   1016.91   \n",
       "3          0.006983  ...        10.0    Clear                29.26   1016.91   \n",
       "4          0.006850  ...        10.0    Clear                29.26   1016.91   \n",
       "\n",
       "   windSpeed  cloudCover  windBearing  precipIntensity  dewPoint  \\\n",
       "0       9.18  cloudCover        282.0              0.0      24.4   \n",
       "1       9.18  cloudCover        282.0              0.0      24.4   \n",
       "2       9.18  cloudCover        282.0              0.0      24.4   \n",
       "3       9.18  cloudCover        282.0              0.0      24.4   \n",
       "4       9.18  cloudCover        282.0              0.0      24.4   \n",
       "\n",
       "   precipProbability  \n",
       "0                0.0  \n",
       "1                0.0  \n",
       "2                0.0  \n",
       "3                0.0  \n",
       "4                0.0  \n",
       "\n",
       "[5 rows x 32 columns]"
      ]
     },
     "execution_count": 4,
     "metadata": {},
     "output_type": "execute_result"
    }
   ],
   "source": [
    "data.head()"
   ]
  },
  {
   "cell_type": "code",
   "execution_count": 5,
   "id": "ac7aca33",
   "metadata": {},
   "outputs": [
    {
     "name": "stdout",
     "output_type": "stream",
     "text": [
      "<class 'pandas.core.frame.DataFrame'>\n",
      "RangeIndex: 503911 entries, 0 to 503910\n",
      "Data columns (total 32 columns):\n",
      " #   Column               Non-Null Count   Dtype  \n",
      "---  ------               --------------   -----  \n",
      " 0   time                 503911 non-null  object \n",
      " 1   use [kW]             503910 non-null  float64\n",
      " 2   gen [kW]             503910 non-null  float64\n",
      " 3   House overall [kW]   503910 non-null  float64\n",
      " 4   Dishwasher [kW]      503910 non-null  float64\n",
      " 5   Furnace 1 [kW]       503910 non-null  float64\n",
      " 6   Furnace 2 [kW]       503910 non-null  float64\n",
      " 7   Home office [kW]     503910 non-null  float64\n",
      " 8   Fridge [kW]          503910 non-null  float64\n",
      " 9   Wine cellar [kW]     503910 non-null  float64\n",
      " 10  Garage door [kW]     503910 non-null  float64\n",
      " 11  Kitchen 12 [kW]      503910 non-null  float64\n",
      " 12  Kitchen 14 [kW]      503910 non-null  float64\n",
      " 13  Kitchen 38 [kW]      503910 non-null  float64\n",
      " 14  Barn [kW]            503910 non-null  float64\n",
      " 15  Well [kW]            503910 non-null  float64\n",
      " 16  Microwave [kW]       503910 non-null  float64\n",
      " 17  Living room [kW]     503910 non-null  float64\n",
      " 18  Solar [kW]           503910 non-null  float64\n",
      " 19  temperature          503910 non-null  float64\n",
      " 20  icon                 503910 non-null  object \n",
      " 21  humidity             503910 non-null  float64\n",
      " 22  visibility           503910 non-null  float64\n",
      " 23  summary              503910 non-null  object \n",
      " 24  apparentTemperature  503910 non-null  float64\n",
      " 25  pressure             503910 non-null  float64\n",
      " 26  windSpeed            503910 non-null  float64\n",
      " 27  cloudCover           503910 non-null  object \n",
      " 28  windBearing          503910 non-null  float64\n",
      " 29  precipIntensity      503910 non-null  float64\n",
      " 30  dewPoint             503910 non-null  float64\n",
      " 31  precipProbability    503910 non-null  float64\n",
      "dtypes: float64(28), object(4)\n",
      "memory usage: 123.0+ MB\n"
     ]
    }
   ],
   "source": [
    "data.info()"
   ]
  },
  {
   "cell_type": "markdown",
   "id": "5fe20841",
   "metadata": {},
   "source": [
    "Nous constatons qu'il y'a certianes colonnes qui ne sont pas très informatives a notre gout, donc nous allons extraire les colonnes que nous allons utiliser pour notre analyse"
   ]
  },
  {
   "cell_type": "code",
   "execution_count": 6,
   "id": "4dfe13a2",
   "metadata": {
    "scrolled": false
   },
   "outputs": [
    {
     "name": "stdout",
     "output_type": "stream",
     "text": [
      "   use [kW]  gen [kW]  House overall [kW]  Solar [kW]  temperature  \\\n",
      "0  0.932833  0.003483            0.932833    0.003483        36.14   \n",
      "1  0.934333  0.003467            0.934333    0.003467        36.14   \n",
      "2  0.931817  0.003467            0.931817    0.003467        36.14   \n",
      "3  1.022050  0.003483            1.022050    0.003483        36.14   \n",
      "4  1.139400  0.003467            1.139400    0.003467        36.14   \n",
      "\n",
      "          icon summary  apparentTemperature  \n",
      "0  clear-night   Clear                29.26  \n",
      "1  clear-night   Clear                29.26  \n",
      "2  clear-night   Clear                29.26  \n",
      "3  clear-night   Clear                29.26  \n",
      "4  clear-night   Clear                29.26  \n",
      "(503911, 8)\n"
     ]
    }
   ],
   "source": [
    "col_utile = ['use [kW]' ,'gen [kW]', 'House overall [kW]', 'Solar [kW]' , 'temperature', 'icon', 'summary', 'apparentTemperature']\n",
    "d = data[col_utile]\n",
    "print(d.head())\n",
    "print(d.shape)"
   ]
  },
  {
   "cell_type": "markdown",
   "id": "a5b89299",
   "metadata": {},
   "source": [
    "####  Traitement des donné manquante"
   ]
  },
  {
   "cell_type": "code",
   "execution_count": 7,
   "id": "089847b6",
   "metadata": {},
   "outputs": [
    {
     "data": {
      "text/plain": [
       "use [kW]               1\n",
       "gen [kW]               1\n",
       "House overall [kW]     1\n",
       "Solar [kW]             1\n",
       "temperature            1\n",
       "icon                   1\n",
       "summary                1\n",
       "apparentTemperature    1\n",
       "dtype: int64"
      ]
     },
     "execution_count": 7,
     "metadata": {},
     "output_type": "execute_result"
    }
   ],
   "source": [
    "d.isnull().sum()"
   ]
  },
  {
   "cell_type": "markdown",
   "id": "a8d02c92",
   "metadata": {},
   "source": [
    "Vu que la nombre de données manquantes est pratiquement insignifiant, nous allons suprimmer ces colones"
   ]
  },
  {
   "cell_type": "code",
   "execution_count": 8,
   "id": "4fd37c41",
   "metadata": {},
   "outputs": [],
   "source": [
    "d1 = d.dropna()"
   ]
  },
  {
   "cell_type": "code",
   "execution_count": 76,
   "id": "19dbced7",
   "metadata": {},
   "outputs": [
    {
     "data": {
      "text/plain": [
       "use [kW]               0\n",
       "gen [kW]               0\n",
       "House overall [kW]     0\n",
       "Solar [kW]             0\n",
       "temperature            0\n",
       "icon                   0\n",
       "summary                0\n",
       "apparentTemperature    0\n",
       "dtype: int64"
      ]
     },
     "execution_count": 76,
     "metadata": {},
     "output_type": "execute_result"
    }
   ],
   "source": [
    "# Verifions que nous avons plus de données manquante\n",
    "d1.isnull().sum()"
   ]
  },
  {
   "cell_type": "markdown",
   "id": "6a7723bc",
   "metadata": {},
   "source": [
    "Nous pouvons constater qu'il n'y a plus de données manquante. "
   ]
  },
  {
   "cell_type": "markdown",
   "id": "626fe8be",
   "metadata": {},
   "source": [
    "####  Traitement des doublons"
   ]
  },
  {
   "cell_type": "code",
   "execution_count": 12,
   "id": "14751c9f",
   "metadata": {},
   "outputs": [
    {
     "data": {
      "text/plain": [
       "624"
      ]
     },
     "execution_count": 12,
     "metadata": {},
     "output_type": "execute_result"
    }
   ],
   "source": [
    "d1.duplicated().sum()"
   ]
  },
  {
   "cell_type": "markdown",
   "id": "168ec216",
   "metadata": {},
   "source": [
    "Nous confirmons la presence des la valeurs manquantes"
   ]
  },
  {
   "cell_type": "code",
   "execution_count": 13,
   "id": "a0a8817f",
   "metadata": {},
   "outputs": [
    {
     "data": {
      "text/plain": [
       "False    503286\n",
       "True        624\n",
       "dtype: int64"
      ]
     },
     "execution_count": 13,
     "metadata": {},
     "output_type": "execute_result"
    }
   ],
   "source": [
    "d1.duplicated().value_counts()"
   ]
  },
  {
   "cell_type": "code",
   "execution_count": 14,
   "id": "dce4204b",
   "metadata": {},
   "outputs": [
    {
     "data": {
      "text/plain": [
       "0.12383163660177413"
      ]
     },
     "execution_count": 14,
     "metadata": {},
     "output_type": "execute_result"
    }
   ],
   "source": [
    "(d1.duplicated().sum()/len(d1))*100"
   ]
  },
  {
   "cell_type": "markdown",
   "id": "45bc3506",
   "metadata": {},
   "source": [
    "Nous remarquons que le pourcentage de doublons est negligeable paraport a la taille complete des données, donc nous allons \n",
    "suprimer tous les doublons"
   ]
  },
  {
   "cell_type": "code",
   "execution_count": 15,
   "id": "74ef6ba3",
   "metadata": {},
   "outputs": [],
   "source": [
    "d_clean = d1.drop_duplicates()"
   ]
  },
  {
   "cell_type": "code",
   "execution_count": 16,
   "id": "98cf9d34",
   "metadata": {},
   "outputs": [
    {
     "data": {
      "text/plain": [
       "(503286, 8)"
      ]
     },
     "execution_count": 16,
     "metadata": {},
     "output_type": "execute_result"
    }
   ],
   "source": [
    "d_clean.shape"
   ]
  },
  {
   "cell_type": "code",
   "execution_count": 17,
   "id": "54ea3d11",
   "metadata": {},
   "outputs": [
    {
     "data": {
      "text/plain": [
       "503286"
      ]
     },
     "execution_count": 17,
     "metadata": {},
     "output_type": "execute_result"
    }
   ],
   "source": [
    "# Nous voulons nous rassurer que les doublons ont bien était retiter de notre base de données\n",
    "503910 - 624"
   ]
  },
  {
   "cell_type": "markdown",
   "id": "86bb069f",
   "metadata": {},
   "source": [
    "Nous avons traiter les données manquante et les doublons. \n",
    "Maintenant nous pouvons faire des analyses sur notre base de données netoyer"
   ]
  },
  {
   "cell_type": "code",
   "execution_count": 18,
   "id": "ab635a91",
   "metadata": {},
   "outputs": [
    {
     "data": {
      "text/html": [
       "<div>\n",
       "<style scoped>\n",
       "    .dataframe tbody tr th:only-of-type {\n",
       "        vertical-align: middle;\n",
       "    }\n",
       "\n",
       "    .dataframe tbody tr th {\n",
       "        vertical-align: top;\n",
       "    }\n",
       "\n",
       "    .dataframe thead th {\n",
       "        text-align: right;\n",
       "    }\n",
       "</style>\n",
       "<table border=\"1\" class=\"dataframe\">\n",
       "  <thead>\n",
       "    <tr style=\"text-align: right;\">\n",
       "      <th></th>\n",
       "      <th>use [kW]</th>\n",
       "      <th>gen [kW]</th>\n",
       "      <th>House overall [kW]</th>\n",
       "      <th>Solar [kW]</th>\n",
       "      <th>temperature</th>\n",
       "      <th>icon</th>\n",
       "      <th>summary</th>\n",
       "      <th>apparentTemperature</th>\n",
       "    </tr>\n",
       "  </thead>\n",
       "  <tbody>\n",
       "    <tr>\n",
       "      <th>0</th>\n",
       "      <td>0.932833</td>\n",
       "      <td>0.003483</td>\n",
       "      <td>0.932833</td>\n",
       "      <td>0.003483</td>\n",
       "      <td>36.14</td>\n",
       "      <td>clear-night</td>\n",
       "      <td>Clear</td>\n",
       "      <td>29.26</td>\n",
       "    </tr>\n",
       "    <tr>\n",
       "      <th>1</th>\n",
       "      <td>0.934333</td>\n",
       "      <td>0.003467</td>\n",
       "      <td>0.934333</td>\n",
       "      <td>0.003467</td>\n",
       "      <td>36.14</td>\n",
       "      <td>clear-night</td>\n",
       "      <td>Clear</td>\n",
       "      <td>29.26</td>\n",
       "    </tr>\n",
       "    <tr>\n",
       "      <th>2</th>\n",
       "      <td>0.931817</td>\n",
       "      <td>0.003467</td>\n",
       "      <td>0.931817</td>\n",
       "      <td>0.003467</td>\n",
       "      <td>36.14</td>\n",
       "      <td>clear-night</td>\n",
       "      <td>Clear</td>\n",
       "      <td>29.26</td>\n",
       "    </tr>\n",
       "    <tr>\n",
       "      <th>3</th>\n",
       "      <td>1.022050</td>\n",
       "      <td>0.003483</td>\n",
       "      <td>1.022050</td>\n",
       "      <td>0.003483</td>\n",
       "      <td>36.14</td>\n",
       "      <td>clear-night</td>\n",
       "      <td>Clear</td>\n",
       "      <td>29.26</td>\n",
       "    </tr>\n",
       "    <tr>\n",
       "      <th>4</th>\n",
       "      <td>1.139400</td>\n",
       "      <td>0.003467</td>\n",
       "      <td>1.139400</td>\n",
       "      <td>0.003467</td>\n",
       "      <td>36.14</td>\n",
       "      <td>clear-night</td>\n",
       "      <td>Clear</td>\n",
       "      <td>29.26</td>\n",
       "    </tr>\n",
       "  </tbody>\n",
       "</table>\n",
       "</div>"
      ],
      "text/plain": [
       "   use [kW]  gen [kW]  House overall [kW]  Solar [kW]  temperature  \\\n",
       "0  0.932833  0.003483            0.932833    0.003483        36.14   \n",
       "1  0.934333  0.003467            0.934333    0.003467        36.14   \n",
       "2  0.931817  0.003467            0.931817    0.003467        36.14   \n",
       "3  1.022050  0.003483            1.022050    0.003483        36.14   \n",
       "4  1.139400  0.003467            1.139400    0.003467        36.14   \n",
       "\n",
       "          icon summary  apparentTemperature  \n",
       "0  clear-night   Clear                29.26  \n",
       "1  clear-night   Clear                29.26  \n",
       "2  clear-night   Clear                29.26  \n",
       "3  clear-night   Clear                29.26  \n",
       "4  clear-night   Clear                29.26  "
      ]
     },
     "execution_count": 18,
     "metadata": {},
     "output_type": "execute_result"
    }
   ],
   "source": [
    "d_clean.head()"
   ]
  },
  {
   "cell_type": "code",
   "execution_count": 19,
   "id": "e56fe2ff",
   "metadata": {},
   "outputs": [],
   "source": [
    "# Renomons les colonens \n",
    "d_clean = d_clean.rename(columns={\"use [kW]\" : \"total_energy_cons\", \"gen [kW]\" : \"total_energy_gen\", \n",
    "        \"House overall [kW]\" : 'house_overall_energy_cons', 'Solar [kW]' : 'solar_power_gen', 'icon' : 'overall_weather_cond' ,\n",
    "         \"summary\" : \"summarise_weather\" })"
   ]
  },
  {
   "cell_type": "code",
   "execution_count": 20,
   "id": "61ebcade",
   "metadata": {
    "scrolled": true
   },
   "outputs": [
    {
     "data": {
      "text/html": [
       "<div>\n",
       "<style scoped>\n",
       "    .dataframe tbody tr th:only-of-type {\n",
       "        vertical-align: middle;\n",
       "    }\n",
       "\n",
       "    .dataframe tbody tr th {\n",
       "        vertical-align: top;\n",
       "    }\n",
       "\n",
       "    .dataframe thead th {\n",
       "        text-align: right;\n",
       "    }\n",
       "</style>\n",
       "<table border=\"1\" class=\"dataframe\">\n",
       "  <thead>\n",
       "    <tr style=\"text-align: right;\">\n",
       "      <th></th>\n",
       "      <th>total_energy_cons</th>\n",
       "      <th>total_energy_gen</th>\n",
       "      <th>house_overall_energy_cons</th>\n",
       "      <th>solar_power_gen</th>\n",
       "      <th>temperature</th>\n",
       "      <th>overall_weather_cond</th>\n",
       "      <th>summarise_weather</th>\n",
       "      <th>apparentTemperature</th>\n",
       "    </tr>\n",
       "  </thead>\n",
       "  <tbody>\n",
       "    <tr>\n",
       "      <th>0</th>\n",
       "      <td>0.932833</td>\n",
       "      <td>0.003483</td>\n",
       "      <td>0.932833</td>\n",
       "      <td>0.003483</td>\n",
       "      <td>36.14</td>\n",
       "      <td>clear-night</td>\n",
       "      <td>Clear</td>\n",
       "      <td>29.26</td>\n",
       "    </tr>\n",
       "    <tr>\n",
       "      <th>1</th>\n",
       "      <td>0.934333</td>\n",
       "      <td>0.003467</td>\n",
       "      <td>0.934333</td>\n",
       "      <td>0.003467</td>\n",
       "      <td>36.14</td>\n",
       "      <td>clear-night</td>\n",
       "      <td>Clear</td>\n",
       "      <td>29.26</td>\n",
       "    </tr>\n",
       "    <tr>\n",
       "      <th>2</th>\n",
       "      <td>0.931817</td>\n",
       "      <td>0.003467</td>\n",
       "      <td>0.931817</td>\n",
       "      <td>0.003467</td>\n",
       "      <td>36.14</td>\n",
       "      <td>clear-night</td>\n",
       "      <td>Clear</td>\n",
       "      <td>29.26</td>\n",
       "    </tr>\n",
       "    <tr>\n",
       "      <th>3</th>\n",
       "      <td>1.022050</td>\n",
       "      <td>0.003483</td>\n",
       "      <td>1.022050</td>\n",
       "      <td>0.003483</td>\n",
       "      <td>36.14</td>\n",
       "      <td>clear-night</td>\n",
       "      <td>Clear</td>\n",
       "      <td>29.26</td>\n",
       "    </tr>\n",
       "    <tr>\n",
       "      <th>4</th>\n",
       "      <td>1.139400</td>\n",
       "      <td>0.003467</td>\n",
       "      <td>1.139400</td>\n",
       "      <td>0.003467</td>\n",
       "      <td>36.14</td>\n",
       "      <td>clear-night</td>\n",
       "      <td>Clear</td>\n",
       "      <td>29.26</td>\n",
       "    </tr>\n",
       "  </tbody>\n",
       "</table>\n",
       "</div>"
      ],
      "text/plain": [
       "   total_energy_cons  total_energy_gen  house_overall_energy_cons  \\\n",
       "0           0.932833          0.003483                   0.932833   \n",
       "1           0.934333          0.003467                   0.934333   \n",
       "2           0.931817          0.003467                   0.931817   \n",
       "3           1.022050          0.003483                   1.022050   \n",
       "4           1.139400          0.003467                   1.139400   \n",
       "\n",
       "   solar_power_gen  temperature overall_weather_cond summarise_weather  \\\n",
       "0         0.003483        36.14          clear-night             Clear   \n",
       "1         0.003467        36.14          clear-night             Clear   \n",
       "2         0.003467        36.14          clear-night             Clear   \n",
       "3         0.003483        36.14          clear-night             Clear   \n",
       "4         0.003467        36.14          clear-night             Clear   \n",
       "\n",
       "   apparentTemperature  \n",
       "0                29.26  \n",
       "1                29.26  \n",
       "2                29.26  \n",
       "3                29.26  \n",
       "4                29.26  "
      ]
     },
     "execution_count": 20,
     "metadata": {},
     "output_type": "execute_result"
    }
   ],
   "source": [
    "d_clean.head()"
   ]
  },
  {
   "cell_type": "markdown",
   "id": "fd75c199",
   "metadata": {},
   "source": [
    "Nous allons créer un matrix de corrélation pour éssayer de mieux comprende le lien entre les variable quantitatives"
   ]
  },
  {
   "cell_type": "code",
   "execution_count": 21,
   "id": "5932d2ad",
   "metadata": {
    "scrolled": true
   },
   "outputs": [
    {
     "data": {
      "text/html": [
       "<div>\n",
       "<style scoped>\n",
       "    .dataframe tbody tr th:only-of-type {\n",
       "        vertical-align: middle;\n",
       "    }\n",
       "\n",
       "    .dataframe tbody tr th {\n",
       "        vertical-align: top;\n",
       "    }\n",
       "\n",
       "    .dataframe thead th {\n",
       "        text-align: right;\n",
       "    }\n",
       "</style>\n",
       "<table border=\"1\" class=\"dataframe\">\n",
       "  <thead>\n",
       "    <tr style=\"text-align: right;\">\n",
       "      <th></th>\n",
       "      <th>total_energy_cons</th>\n",
       "      <th>total_energy_gen</th>\n",
       "      <th>house_overall_energy_cons</th>\n",
       "      <th>solar_power_gen</th>\n",
       "      <th>temperature</th>\n",
       "      <th>apparentTemperature</th>\n",
       "    </tr>\n",
       "  </thead>\n",
       "  <tbody>\n",
       "    <tr>\n",
       "      <th>total_energy_cons</th>\n",
       "      <td>1.000000</td>\n",
       "      <td>-0.132034</td>\n",
       "      <td>1.000000</td>\n",
       "      <td>-0.132034</td>\n",
       "      <td>0.010412</td>\n",
       "      <td>0.005617</td>\n",
       "    </tr>\n",
       "    <tr>\n",
       "      <th>total_energy_gen</th>\n",
       "      <td>-0.132034</td>\n",
       "      <td>1.000000</td>\n",
       "      <td>-0.132034</td>\n",
       "      <td>1.000000</td>\n",
       "      <td>0.091063</td>\n",
       "      <td>0.093895</td>\n",
       "    </tr>\n",
       "    <tr>\n",
       "      <th>house_overall_energy_cons</th>\n",
       "      <td>1.000000</td>\n",
       "      <td>-0.132034</td>\n",
       "      <td>1.000000</td>\n",
       "      <td>-0.132034</td>\n",
       "      <td>0.010412</td>\n",
       "      <td>0.005617</td>\n",
       "    </tr>\n",
       "    <tr>\n",
       "      <th>solar_power_gen</th>\n",
       "      <td>-0.132034</td>\n",
       "      <td>1.000000</td>\n",
       "      <td>-0.132034</td>\n",
       "      <td>1.000000</td>\n",
       "      <td>0.091063</td>\n",
       "      <td>0.093895</td>\n",
       "    </tr>\n",
       "    <tr>\n",
       "      <th>temperature</th>\n",
       "      <td>0.010412</td>\n",
       "      <td>0.091063</td>\n",
       "      <td>0.010412</td>\n",
       "      <td>0.091063</td>\n",
       "      <td>1.000000</td>\n",
       "      <td>0.993186</td>\n",
       "    </tr>\n",
       "    <tr>\n",
       "      <th>apparentTemperature</th>\n",
       "      <td>0.005617</td>\n",
       "      <td>0.093895</td>\n",
       "      <td>0.005617</td>\n",
       "      <td>0.093895</td>\n",
       "      <td>0.993186</td>\n",
       "      <td>1.000000</td>\n",
       "    </tr>\n",
       "  </tbody>\n",
       "</table>\n",
       "</div>"
      ],
      "text/plain": [
       "                           total_energy_cons  total_energy_gen  \\\n",
       "total_energy_cons                   1.000000         -0.132034   \n",
       "total_energy_gen                   -0.132034          1.000000   \n",
       "house_overall_energy_cons           1.000000         -0.132034   \n",
       "solar_power_gen                    -0.132034          1.000000   \n",
       "temperature                         0.010412          0.091063   \n",
       "apparentTemperature                 0.005617          0.093895   \n",
       "\n",
       "                           house_overall_energy_cons  solar_power_gen  \\\n",
       "total_energy_cons                           1.000000        -0.132034   \n",
       "total_energy_gen                           -0.132034         1.000000   \n",
       "house_overall_energy_cons                   1.000000        -0.132034   \n",
       "solar_power_gen                            -0.132034         1.000000   \n",
       "temperature                                 0.010412         0.091063   \n",
       "apparentTemperature                         0.005617         0.093895   \n",
       "\n",
       "                           temperature  apparentTemperature  \n",
       "total_energy_cons             0.010412             0.005617  \n",
       "total_energy_gen              0.091063             0.093895  \n",
       "house_overall_energy_cons     0.010412             0.005617  \n",
       "solar_power_gen               0.091063             0.093895  \n",
       "temperature                   1.000000             0.993186  \n",
       "apparentTemperature           0.993186             1.000000  "
      ]
     },
     "execution_count": 21,
     "metadata": {},
     "output_type": "execute_result"
    }
   ],
   "source": [
    "d_clean.corr()"
   ]
  },
  {
   "cell_type": "code",
   "execution_count": 23,
   "id": "01d117fd",
   "metadata": {},
   "outputs": [
    {
     "data": {
      "text/plain": [
       "<AxesSubplot:>"
      ]
     },
     "execution_count": 23,
     "metadata": {},
     "output_type": "execute_result"
    },
    {
     "data": {
      "image/png": "[encoded data removed]",
      "text/plain": [
       "<Figure size 432x288 with 2 Axes>"
      ]
     },
     "metadata": {
      "needs_background": "light"
     },
     "output_type": "display_data"
    }
   ],
   "source": [
    "sns.heatmap(d_clean.corr())"
   ]
  },
  {
   "cell_type": "markdown",
   "id": "33f13ad1",
   "metadata": {},
   "source": [
    "Nous constatons qu'il y'a une correaltion negative entre l'énergie générer et celle produite consommer. \n",
    "Nous constaton aussi la correation(lien) positive entre la temperature et l'énergie. Que sa soit l'énergie produite ou consomer"
   ]
  },
  {
   "cell_type": "code",
   "execution_count": 26,
   "id": "0dc2e318",
   "metadata": {},
   "outputs": [
    {
     "data": {
      "text/plain": [
       "Index(['total_energy_cons', 'total_energy_gen', 'house_overall_energy_cons',\n",
       "       'solar_power_gen', 'temperature', 'overall_weather_cond',\n",
       "       'summarise_weather', 'apparentTemperature'],\n",
       "      dtype='object')"
      ]
     },
     "execution_count": 26,
     "metadata": {},
     "output_type": "execute_result"
    }
   ],
   "source": [
    "d_clean.columns"
   ]
  },
  {
   "cell_type": "code",
   "execution_count": 27,
   "id": "724dcc18",
   "metadata": {},
   "outputs": [],
   "source": [
    "# On renome les colonnes pour faciliter le traitement des celle si\n",
    "d_m = d_clean.rename(columns={\"use [kW]\" : \"total_energy_cons\", \"gen [kW]\" : \"total_energy_gen\", \n",
    "        \"House overall [kW]\" : 'house_overall_energy_cons', 'Solar [kW]' : 'solar_power_gen', 'icon' : 'overall_weather_cond' ,\n",
    "         \"summary\" : \"summarise_weather\" })"
   ]
  },
  {
   "cell_type": "code",
   "execution_count": 28,
   "id": "7f991693",
   "metadata": {
    "scrolled": true
   },
   "outputs": [
    {
     "data": {
      "text/plain": [
       "clear-night            194311\n",
       "clear-day              181980\n",
       "rain                    43045\n",
       "partly-cloudy-day       39451\n",
       "partly-cloudy-night     27294\n",
       "snow                     7544\n",
       "cloudy                   6032\n",
       "wind                     2656\n",
       "fog                       973\n",
       "Name: overall_weather_cond, dtype: int64"
      ]
     },
     "execution_count": 28,
     "metadata": {},
     "output_type": "execute_result"
    }
   ],
   "source": [
    "d_m.overall_weather_cond.value_counts()"
   ]
  },
  {
   "cell_type": "markdown",
   "id": "86554462",
   "metadata": {},
   "source": [
    "## Prediction des Temperature et du Temps\n",
    "Nous allons faire usage de l'algorithme d'arbres decisionnelles et l'algorithme du plus proche voisin pour faire ses predictions"
   ]
  },
  {
   "cell_type": "markdown",
   "id": "47321e82",
   "metadata": {},
   "source": [
    "### Prediction du Temp(overall_weather_cond)\n",
    "\n",
    "Nous allons utilsier les énergies consommer et produite pour prédire le temps qu'il fera. \n",
    "Pour se faire , nous allons ituilser de algorithme different:\n",
    "- Un arbre decision pour la classification\n",
    "- l'algorithme  du plus proche voisin"
   ]
  },
  {
   "cell_type": "code",
   "execution_count": 29,
   "id": "fb71b4d2",
   "metadata": {
    "scrolled": true
   },
   "outputs": [
    {
     "data": {
      "text/html": [
       "<div>\n",
       "<style scoped>\n",
       "    .dataframe tbody tr th:only-of-type {\n",
       "        vertical-align: middle;\n",
       "    }\n",
       "\n",
       "    .dataframe tbody tr th {\n",
       "        vertical-align: top;\n",
       "    }\n",
       "\n",
       "    .dataframe thead th {\n",
       "        text-align: right;\n",
       "    }\n",
       "</style>\n",
       "<table border=\"1\" class=\"dataframe\">\n",
       "  <thead>\n",
       "    <tr style=\"text-align: right;\">\n",
       "      <th></th>\n",
       "      <th>total_energy_cons</th>\n",
       "      <th>total_energy_gen</th>\n",
       "      <th>house_overall_energy_cons</th>\n",
       "      <th>solar_power_gen</th>\n",
       "      <th>temperature</th>\n",
       "      <th>overall_weather_cond</th>\n",
       "      <th>summarise_weather</th>\n",
       "      <th>apparentTemperature</th>\n",
       "    </tr>\n",
       "  </thead>\n",
       "  <tbody>\n",
       "    <tr>\n",
       "      <th>0</th>\n",
       "      <td>0.932833</td>\n",
       "      <td>0.003483</td>\n",
       "      <td>0.932833</td>\n",
       "      <td>0.003483</td>\n",
       "      <td>36.14</td>\n",
       "      <td>1</td>\n",
       "      <td>Clear</td>\n",
       "      <td>29.26</td>\n",
       "    </tr>\n",
       "    <tr>\n",
       "      <th>1</th>\n",
       "      <td>0.934333</td>\n",
       "      <td>0.003467</td>\n",
       "      <td>0.934333</td>\n",
       "      <td>0.003467</td>\n",
       "      <td>36.14</td>\n",
       "      <td>1</td>\n",
       "      <td>Clear</td>\n",
       "      <td>29.26</td>\n",
       "    </tr>\n",
       "    <tr>\n",
       "      <th>2</th>\n",
       "      <td>0.931817</td>\n",
       "      <td>0.003467</td>\n",
       "      <td>0.931817</td>\n",
       "      <td>0.003467</td>\n",
       "      <td>36.14</td>\n",
       "      <td>1</td>\n",
       "      <td>Clear</td>\n",
       "      <td>29.26</td>\n",
       "    </tr>\n",
       "    <tr>\n",
       "      <th>3</th>\n",
       "      <td>1.022050</td>\n",
       "      <td>0.003483</td>\n",
       "      <td>1.022050</td>\n",
       "      <td>0.003483</td>\n",
       "      <td>36.14</td>\n",
       "      <td>1</td>\n",
       "      <td>Clear</td>\n",
       "      <td>29.26</td>\n",
       "    </tr>\n",
       "    <tr>\n",
       "      <th>4</th>\n",
       "      <td>1.139400</td>\n",
       "      <td>0.003467</td>\n",
       "      <td>1.139400</td>\n",
       "      <td>0.003467</td>\n",
       "      <td>36.14</td>\n",
       "      <td>1</td>\n",
       "      <td>Clear</td>\n",
       "      <td>29.26</td>\n",
       "    </tr>\n",
       "  </tbody>\n",
       "</table>\n",
       "</div>"
      ],
      "text/plain": [
       "   total_energy_cons  total_energy_gen  house_overall_energy_cons  \\\n",
       "0           0.932833          0.003483                   0.932833   \n",
       "1           0.934333          0.003467                   0.934333   \n",
       "2           0.931817          0.003467                   0.931817   \n",
       "3           1.022050          0.003483                   1.022050   \n",
       "4           1.139400          0.003467                   1.139400   \n",
       "\n",
       "   solar_power_gen  temperature  overall_weather_cond summarise_weather  \\\n",
       "0         0.003483        36.14                     1             Clear   \n",
       "1         0.003467        36.14                     1             Clear   \n",
       "2         0.003467        36.14                     1             Clear   \n",
       "3         0.003483        36.14                     1             Clear   \n",
       "4         0.003467        36.14                     1             Clear   \n",
       "\n",
       "   apparentTemperature  \n",
       "0                29.26  \n",
       "1                29.26  \n",
       "2                29.26  \n",
       "3                29.26  \n",
       "4                29.26  "
      ]
     },
     "execution_count": 29,
     "metadata": {},
     "output_type": "execute_result"
    }
   ],
   "source": [
    "# On remplace les valeurs des la colonnes de overall_weather_cond par des valeurs numeriques pour pourvoir faire du \n",
    "# machine learning \n",
    "d_m['overall_weather_cond'].replace(['clear-night', 'clear-day','rain', 'partly-cloudy-day','partly-cloudy-night' ,'snow', \n",
    "'cloudy', 'wind', 'fog' ], [1,2,3,4,5,6,7,8,9], inplace=True)\n",
    "d_m.head()"
   ]
  },
  {
   "cell_type": "markdown",
   "id": "67acfef0",
   "metadata": {},
   "source": [
    "#### 1. Les K Plus Proche Voisins"
   ]
  },
  {
   "cell_type": "code",
   "execution_count": 30,
   "id": "504041d8",
   "metadata": {},
   "outputs": [],
   "source": [
    "# On definir nos variables X et y qui seront utiliser pour faire la prediction du temps\n",
    "y = d_m['overall_weather_cond']\n",
    "X = d_m.drop(['overall_weather_cond', 'summarise_weather', 'temperature'], axis=1)"
   ]
  },
  {
   "cell_type": "code",
   "execution_count": 31,
   "id": "eff762cb",
   "metadata": {},
   "outputs": [],
   "source": [
    "# On divise nos données en deux ensembles\n",
    "X_train, X_test, y_train, y_test = train_test_split(X,y, test_size=0.2, random_state=20)"
   ]
  },
  {
   "cell_type": "code",
   "execution_count": 32,
   "id": "3e72a2ba",
   "metadata": {},
   "outputs": [
    {
     "data": {
      "text/plain": [
       "(402628, 5)"
      ]
     },
     "execution_count": 32,
     "metadata": {},
     "output_type": "execute_result"
    }
   ],
   "source": [
    "X_train.shape"
   ]
  },
  {
   "cell_type": "code",
   "execution_count": 33,
   "id": "9cd5f7f4",
   "metadata": {},
   "outputs": [
    {
     "data": {
      "text/plain": [
       "(100658, 5)"
      ]
     },
     "execution_count": 33,
     "metadata": {},
     "output_type": "execute_result"
    }
   ],
   "source": [
    "X_test.shape"
   ]
  },
  {
   "cell_type": "code",
   "execution_count": 36,
   "id": "4be3585c",
   "metadata": {},
   "outputs": [],
   "source": [
    "# On creer notre model\n",
    "model_w = KNeighborsClassifier(n_neighbors=5)"
   ]
  },
  {
   "cell_type": "code",
   "execution_count": 39,
   "id": "011aba31",
   "metadata": {},
   "outputs": [],
   "source": [
    "# On creer nos données de validation(X_v, y_v pour valider notre model)\n",
    "X_t, X_v, y_t, y_v = train_test_split(X_train,y_train, test_size=0.2, random_state=20)"
   ]
  },
  {
   "cell_type": "code",
   "execution_count": 40,
   "id": "89d4a02a",
   "metadata": {},
   "outputs": [
    {
     "data": {
      "text/plain": [
       "KNeighborsClassifier()"
      ]
     },
     "execution_count": 40,
     "metadata": {},
     "output_type": "execute_result"
    }
   ],
   "source": [
    "# On entrain le model sur les données d'entrainement(X_t et y_t)\n",
    "model_w.fit(X_t, y_t)"
   ]
  },
  {
   "cell_type": "code",
   "execution_count": 41,
   "id": "8248c4b4",
   "metadata": {},
   "outputs": [
    {
     "data": {
      "text/plain": [
       "0.8344013113776917"
      ]
     },
     "execution_count": 41,
     "metadata": {},
     "output_type": "execute_result"
    }
   ],
   "source": [
    "# On evalue le model nos données de validation(X_v,y_v)\n",
    "model_w.score(X_v,y_v)"
   ]
  },
  {
   "cell_type": "code",
   "execution_count": 42,
   "id": "cf242578",
   "metadata": {},
   "outputs": [
    {
     "name": "stdout",
     "output_type": "stream",
     "text": [
      "{5: 0.8344013113776917}\n",
      "{10: 0.7876834811116906}\n",
      "{15: 0.7531480515609865}\n",
      "{20: 0.7214067506147083}\n",
      "{100: 0.5665499341827485}\n",
      "{200: 0.5326850954971065}\n"
     ]
    }
   ],
   "source": [
    "# On évalue notre model pour différent valeur de k \n",
    "for k in [5,10,15,20,100,200]:\n",
    "    model_score = KNeighborsClassifier(n_neighbors=k).fit(X_t,y_t).score(X_v,y_v)\n",
    "    #mr = model_result.append(model_score)\n",
    "    result = {k:model_score}\n",
    "    print(result)"
   ]
  },
  {
   "cell_type": "markdown",
   "id": "7ba1c758",
   "metadata": {},
   "source": [
    "Nous constatons que nous avons le meilleur score pour k = 5"
   ]
  },
  {
   "cell_type": "code",
   "execution_count": 44,
   "id": "32c11052",
   "metadata": {},
   "outputs": [
    {
     "data": {
      "text/plain": [
       "0.8359295833416122"
      ]
     },
     "execution_count": 44,
     "metadata": {},
     "output_type": "execute_result"
    }
   ],
   "source": [
    "# On evalue notre model\n",
    "model_w.score(X_test,y_test)"
   ]
  },
  {
   "cell_type": "code",
   "execution_count": 71,
   "id": "f0b5165b",
   "metadata": {},
   "outputs": [
    {
     "data": {
      "text/plain": [
       "array([[34270,  3002,   564,   457,   447,   168,   109,    26,    26],\n",
       "       [ 3571, 31003,   596,   564,   339,    91,    72,    24,    19],\n",
       "       [  887,   772,  6585,   130,    92,     7,    18,     6,     7],\n",
       "       [  744,   852,   189,  6068,    73,     7,    11,     1,     0],\n",
       "       [  789,   491,   133,    96,  3890,    17,    15,     3,     1],\n",
       "       [  308,   147,    13,    14,    30,   982,     1,     0,     0],\n",
       "       [  165,   120,    44,    26,    21,     6,   820,     0,     4],\n",
       "       [   51,    52,    12,     5,     7,     0,     0,   422,     0],\n",
       "       [   40,    14,     7,     0,     9,     0,     3,     0,   103]],\n",
       "      dtype=int64)"
      ]
     },
     "execution_count": 71,
     "metadata": {},
     "output_type": "execute_result"
    }
   ],
   "source": [
    "# On visualise les predicton en itulisant la matrix de prediction\n",
    "pred_dkn = model_w.predict(X_test)\n",
    "confusion_matrix(y_test,pred_dkn)"
   ]
  },
  {
   "cell_type": "markdown",
   "id": "a23903bf",
   "metadata": {},
   "source": [
    "#### 2. DecisionTreeClassifier"
   ]
  },
  {
   "cell_type": "code",
   "execution_count": 78,
   "id": "49da7cd2",
   "metadata": {},
   "outputs": [
    {
     "name": "stdout",
     "output_type": "stream",
     "text": [
      "{5: 0.47303976355462835}\n",
      "{10: 0.47303976355462835}\n",
      "{15: 0.47958423366366143}\n",
      "{20: 0.4854084395102203}\n",
      "{50: 0.4946352730795023}\n",
      "{100: 0.5058614608946179}\n",
      "{200: 0.524998137247597}\n",
      "{500: 0.5642277028537367}\n",
      "{750: 0.5889898914636267}\n",
      "{1000: 0.6141370489034598}\n",
      "{2000: 0.6906092442192584}\n",
      "{3000: 0.7509872587735639}\n",
      "{4000: 0.7956312246976132}\n",
      "{5000: 0.8312222139433226}\n",
      "{10000: 0.9178774557285846}\n"
     ]
    }
   ],
   "source": [
    "#model_result = []\n",
    "for k in [5,10,15,20,50,100,200,500,750,1000, 2000, 3000, 4000, 5000, 10000]:\n",
    "    model_score = DecisionTreeClassifier(max_leaf_nodes=k, random_state=20).fit(X_t,y_t).score(X_v,y_v)\n",
    "    #mr = model_result.append(model_score)\n",
    "    result = {k:model_score}\n",
    "    print(result)"
   ]
  },
  {
   "cell_type": "markdown",
   "id": "278034c7",
   "metadata": {},
   "source": [
    "Nous obtenons notre meilleur model pour une valeur de k =10000\n",
    "Nous allons appliquer ce model sur nos données test"
   ]
  },
  {
   "cell_type": "code",
   "execution_count": 46,
   "id": "0fb66f1d",
   "metadata": {},
   "outputs": [
    {
     "data": {
      "text/plain": [
       "DecisionTreeClassifier(max_leaf_nodes=10000, random_state=20)"
      ]
     },
     "execution_count": 46,
     "metadata": {},
     "output_type": "execute_result"
    }
   ],
   "source": [
    "mod_w = DecisionTreeClassifier(max_leaf_nodes=10000, random_state=20)\n",
    "mod_w.fit(X_t,y_t)"
   ]
  },
  {
   "cell_type": "code",
   "execution_count": 47,
   "id": "412d5d45",
   "metadata": {},
   "outputs": [
    {
     "data": {
      "text/plain": [
       "0.9206819130123786"
      ]
     },
     "execution_count": 47,
     "metadata": {},
     "output_type": "execute_result"
    }
   ],
   "source": [
    "mod_w.score(X_test,y_test)"
   ]
  },
  {
   "cell_type": "markdown",
   "id": "bbcb895a",
   "metadata": {},
   "source": [
    "Nous avons une precision de 92% ce qui est un bon score"
   ]
  },
  {
   "cell_type": "code",
   "execution_count": 69,
   "id": "00474e75",
   "metadata": {},
   "outputs": [
    {
     "data": {
      "text/plain": [
       "array([[36760,  1525,   326,   189,   176,    40,    32,    19,     2],\n",
       "       [ 1688, 33847,   283,   232,   159,    24,    32,    11,     3],\n",
       "       [  589,   433,  7326,    68,    67,     5,    14,     0,     2],\n",
       "       [  353,   492,    84,  6968,    41,     1,     3,     3,     0],\n",
       "       [  387,   227,    47,    31,  4735,     2,     3,     3,     0],\n",
       "       [   95,    34,     1,     0,     4,  1361,     0,     0,     0],\n",
       "       [   73,    49,    19,     2,    13,     0,  1049,     0,     1],\n",
       "       [   39,    25,     4,     0,     0,     0,     0,   481,     0],\n",
       "       [    9,     6,     6,     4,     3,     0,     1,     0,   147]],\n",
       "      dtype=int64)"
      ]
     },
     "execution_count": 69,
     "metadata": {},
     "output_type": "execute_result"
    }
   ],
   "source": [
    "# ON visualise nos prédictons\n",
    "pred_dtc = mod_w.predict(X_test)\n",
    "confusion_matrix(y_test,pred_dtc)"
   ]
  },
  {
   "cell_type": "markdown",
   "id": "4f7a53df",
   "metadata": {},
   "source": [
    "Nous constatons que les models de l'arbre dicisionnelles est un meilleur estimateur que celui du plus proche voisin"
   ]
  },
  {
   "cell_type": "markdown",
   "id": "0bb92a03",
   "metadata": {},
   "source": [
    "### Prediction du Temperature(temperature)\n",
    "#### 2 DecisionTreeRegressor"
   ]
  },
  {
   "cell_type": "code",
   "execution_count": 48,
   "id": "eb7c39f3",
   "metadata": {},
   "outputs": [
    {
     "data": {
      "text/plain": [
       "Index(['total_energy_cons', 'total_energy_gen', 'house_overall_energy_cons',\n",
       "       'solar_power_gen', 'temperature', 'overall_weather_cond',\n",
       "       'summarise_weather', 'apparentTemperature'],\n",
       "      dtype='object')"
      ]
     },
     "execution_count": 48,
     "metadata": {},
     "output_type": "execute_result"
    }
   ],
   "source": [
    "d_clean.columns"
   ]
  },
  {
   "cell_type": "code",
   "execution_count": 49,
   "id": "beeb1691",
   "metadata": {},
   "outputs": [],
   "source": [
    "y1 = d_m['temperature']\n",
    "X1 = d_m.drop(['overall_weather_cond', 'summarise_weather', 'temperature' ], axis=1)"
   ]
  },
  {
   "cell_type": "markdown",
   "id": "c764ab32",
   "metadata": {},
   "source": [
    "On divise nos données en données test, données dentrainement et données de validation du model de regression"
   ]
  },
  {
   "cell_type": "code",
   "execution_count": 50,
   "id": "cafbf2d0",
   "metadata": {},
   "outputs": [],
   "source": [
    "X1_train, X1_test, y1_train, y1_test = train_test_split(X1,y1, test_size=0.2, random_state=20)"
   ]
  },
  {
   "cell_type": "code",
   "execution_count": 51,
   "id": "2697ea25",
   "metadata": {},
   "outputs": [],
   "source": [
    "# On crée les données de validation\n",
    "X1_t, X1_v, y1_t, y1_v = train_test_split(X1_train,y1_train, test_size=0.2, random_state=20)"
   ]
  },
  {
   "cell_type": "code",
   "execution_count": 52,
   "id": "90a29c13",
   "metadata": {},
   "outputs": [
    {
     "name": "stdout",
     "output_type": "stream",
     "text": [
      "{5: 0.9218919963174299}\n",
      "{10: 0.9725838327379465}\n",
      "{15: 0.9814254817226908}\n",
      "{20: 0.9854158053625476}\n",
      "{50: 0.9897800107180283}\n",
      "{100: 0.990971814193656}\n",
      "{200: 0.9921595449973778}\n",
      "{500: 0.9940245773197425}\n",
      "{750: 0.9949502609469352}\n",
      "{1000: 0.9957213792074748}\n",
      "{2000: 0.9974923056177831}\n",
      "{3000: 0.9982909068262523}\n",
      "{4000: 0.9986935868691296}\n",
      "{5000: 0.9988813389682386}\n",
      "{10000: 0.9991199936489276}\n"
     ]
    }
   ],
   "source": [
    "for k in [5,10,15,20,50,100,200,500,750,1000, 2000, 3000, 4000, 5000, 10000]:\n",
    "    model_score = DecisionTreeRegressor(max_leaf_nodes=k, random_state=20).fit(X1_t,y1_t).score(X1_v,y1_v)\n",
    "    #mr = model_result.append(model_score)\n",
    "    result = {k:model_score}\n",
    "    print(result)"
   ]
  },
  {
   "cell_type": "markdown",
   "id": "882ae637",
   "metadata": {},
   "source": [
    "Nous consatons que notre meilleur model est pour k = 10000"
   ]
  },
  {
   "cell_type": "code",
   "execution_count": 53,
   "id": "e2824d53",
   "metadata": {},
   "outputs": [],
   "source": [
    "mdc = DecisionTreeRegressor(max_leaf_nodes=10000, random_state=20)"
   ]
  },
  {
   "cell_type": "code",
   "execution_count": 54,
   "id": "e22fb6ab",
   "metadata": {},
   "outputs": [
    {
     "data": {
      "text/plain": [
       "DecisionTreeRegressor(max_leaf_nodes=10000, random_state=20)"
      ]
     },
     "execution_count": 54,
     "metadata": {},
     "output_type": "execute_result"
    }
   ],
   "source": [
    "mdc.fit(X1_t,y1_t)"
   ]
  },
  {
   "cell_type": "code",
   "execution_count": 55,
   "id": "70611f96",
   "metadata": {},
   "outputs": [
    {
     "data": {
      "text/plain": [
       "0.9991593669152061"
      ]
     },
     "execution_count": 55,
     "metadata": {},
     "output_type": "execute_result"
    }
   ],
   "source": [
    "mdc.score(X1_test,y1_test)"
   ]
  },
  {
   "cell_type": "markdown",
   "id": "a08bbbf5",
   "metadata": {},
   "source": [
    "###  Le Cross validation and Model Performance\n",
    "\n",
    "Le cross validation c'est le fait de subdiviser notre data set en part egal puis entrainer notre model sur une parti et valider sur les reste, et ensuite. En suite entrainer sur une autre parti et valider sur le reste. On fait sa sur l'ensemble des données. \n",
    "Nous allons essayer d'optimiser les resultat obtenut ci-dessus avec le cross-validation et comparer nos models respectives"
   ]
  },
  {
   "cell_type": "markdown",
   "id": "de3af6f2",
   "metadata": {},
   "source": [
    "#### 1. KNeighborsClassifier"
   ]
  },
  {
   "cell_type": "code",
   "execution_count": 57,
   "id": "cd95a10c",
   "metadata": {},
   "outputs": [
    {
     "data": {
      "text/plain": [
       "<matplotlib.legend.Legend at 0x22f05bdbd00>"
      ]
     },
     "execution_count": 57,
     "metadata": {},
     "output_type": "execute_result"
    },
    {
     "data": {
      "image/png": "[encoded data removed]",
      "text/plain": [
       "<Figure size 432x288 with 1 Axes>"
      ]
     },
     "metadata": {
      "needs_background": "light"
     },
     "output_type": "display_data"
    }
   ],
   "source": [
    "skf_kn = StratifiedKFold(5)\n",
    "model_cvkn = KNeighborsClassifier()\n",
    "k = np.arange(1,20)\n",
    "train_score, val_score = validation_curve(model_cvkn, X_t, y_t, param_name= 'n_neighbors', param_range= k , cv=skf_kn)\n",
    "plt.plot(k,val_score.mean(axis=1), label='validation')\n",
    "plt.plot(k,train_score.mean(axis=1), label='train')\n",
    "plt.ylabel('score')\n",
    "plt.xlabel('n_neighbors')\n",
    "plt.legend()"
   ]
  },
  {
   "cell_type": "markdown",
   "id": "450e0dfd",
   "metadata": {},
   "source": [
    "Nous constatons dans se cas de figure que nous avons notre model d'entrainement se rapproche assez de notre model d'évalauation, se qui nous indique que avons affaire a un bon modèl"
   ]
  },
  {
   "cell_type": "markdown",
   "id": "9f3b1393",
   "metadata": {},
   "source": [
    "#### 2. DecisiontreesClassifier"
   ]
  },
  {
   "cell_type": "code",
   "execution_count": 62,
   "id": "80230c3f",
   "metadata": {},
   "outputs": [
    {
     "data": {
      "text/plain": [
       "<matplotlib.legend.Legend at 0x22f5dc690d0>"
      ]
     },
     "execution_count": 62,
     "metadata": {},
     "output_type": "execute_result"
    },
    {
     "data": {
      "image/png": "[encoded data removed]",
      "text/plain": [
       "<Figure size 432x288 with 1 Axes>"
      ]
     },
     "metadata": {
      "needs_background": "light"
     },
     "output_type": "display_data"
    }
   ],
   "source": [
    "skf_dtc = StratifiedKFold(5)\n",
    "model_cvdtc = DecisionTreeClassifier()\n",
    "k = np.arange(5,10000, 500)\n",
    "train_score, val_score = validation_curve(model_cvdtc, X_t, y_t,param_name= 'max_leaf_nodes', param_range= k,cv=skf_dtc )\n",
    "plt.plot(k,val_score.mean(axis=1), label='validation')\n",
    "plt.plot(k,train_score.mean(axis=1), label='train')\n",
    "plt.ylabel('score')\n",
    "plt.xlabel('max_leaf_nodes')\n",
    "plt.legend()"
   ]
  },
  {
   "cell_type": "markdown",
   "id": "a2e8060e",
   "metadata": {},
   "source": [
    "Nous constatons dans se cas de figure que nous avons notre model d'entrainement se rapproche assez de notre model d'évalauation,\n",
    "se qui nous indique que avons affaire a un bon modèl. \n",
    "Nous pouvons aussi remarquer, qu'apartit de plus de 9000 branche notre model ne fait un tés grand évolution"
   ]
  },
  {
   "cell_type": "markdown",
   "id": "18b34beb",
   "metadata": {},
   "source": [
    "#### 3. DecisionTreeRegressor"
   ]
  },
  {
   "cell_type": "code",
   "execution_count": 65,
   "id": "52477eba",
   "metadata": {},
   "outputs": [
    {
     "data": {
      "text/plain": [
       "<matplotlib.legend.Legend at 0x22f05ce9400>"
      ]
     },
     "execution_count": 65,
     "metadata": {},
     "output_type": "execute_result"
    },
    {
     "data": {
      "image/png": "[encoded data removed]",
      "text/plain": [
       "<Figure size 432x288 with 1 Axes>"
      ]
     },
     "metadata": {
      "needs_background": "light"
     },
     "output_type": "display_data"
    }
   ],
   "source": [
    "kf_dtr = KFold(5)\n",
    "model_cvdr = DecisionTreeRegressor()\n",
    "k = np.arange(5,10000, 500)\n",
    "train_score, val_score = validation_curve(model_cvdr, X1_t, y1_t, param_name='max_leaf_nodes', param_range= k,cv=kf_dtr )\n",
    "plt.plot(k,val_score.mean(axis=1), label='validation')\n",
    "plt.plot(k,train_score.mean(axis=1), label='train')\n",
    "plt.ylabel('score')\n",
    "plt.xlabel('max_leaf_nodes')\n",
    "plt.legend()"
   ]
  },
  {
   "cell_type": "markdown",
   "id": "759f7f2d",
   "metadata": {},
   "source": [
    "Nous constatons dans se cas de figure que nous avons notre model d'entrainement se rapproche assez de notre model d'évalauation, se qui nous indique que avons affaire a un bon modèl. \n",
    "Ceci nous donne le meilleur model possible vu qu'il se rapproach le plus du model d'entrainement. \n",
    "Mais nous constaton que la perfomance es pratique stable a parti de plus de 3000 branches."
   ]
  },
  {
   "cell_type": "markdown",
   "id": "a068633c",
   "metadata": {},
   "source": [
    "Nous pouvons tirer la conclusion que la consomation et la production energétique a un impact visible sur le temps d'une région"
   ]
  }
 ],
 "metadata": {
  "kernelspec": {
   "display_name": "Python 3 (ipykernel)",
   "language": "python",
   "name": "python3"
  },
  "language_info": {
   "codemirror_mode": {
    "name": "ipython",
    "version": 3
   },
   "file_extension": ".py",
   "mimetype": "text/x-python",
   "name": "python",
   "nbconvert_exporter": "python",
   "pygments_lexer": "ipython3",
   "version": "3.8.13"
  }
 },
 "nbformat": 4,
 "nbformat_minor": 5
}
